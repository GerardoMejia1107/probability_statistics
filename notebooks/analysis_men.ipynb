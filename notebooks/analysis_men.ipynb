{
 "cells": [
  {
   "cell_type": "code",
   "execution_count": null,
   "id": "09996c34",
   "metadata": {},
   "outputs": [],
   "source": [
    "import pandas as pd\n",
    "import importlib\n",
    "import sys\n",
    "\n",
    "sys.path.append('../helpers')\n",
    "pd_men = pd.read_csv(\"../database/hombres.csv\")"
   ]
  },
  {
   "cell_type": "code",
   "execution_count": null,
   "id": "48e0e6a5",
   "metadata": {},
   "outputs": [],
   "source": [
    "import utils\n",
    "importlib.reload(utils)"
   ]
  },
  {
   "cell_type": "code",
   "execution_count": null,
   "id": "b3ec47b8",
   "metadata": {},
   "outputs": [],
   "source": [
    "copy_pd_men = pd_men.copy()"
   ]
  },
  {
   "cell_type": "code",
   "execution_count": null,
   "id": "6c662e2e",
   "metadata": {},
   "outputs": [],
   "source": [
    "# Manejo de la variable estatura\n",
    "column_estatura = copy_pd_men[\"estatura\"]\n",
    "bins = [1.50, 1.60, 1.70, 1.80, 1.90, 2.0]\n",
    "labels = [\"1.5-1.6\", \"1.6-1.7\", \"1.7-1.8\", \"1.8-1.9\", \"1.9-2.0\"]\n",
    "frecuency_table_by_estatura = utils.frecuency_by_range(column=column_estatura, bins_numbers=bins, label_names=labels)\n",
    "dataframe_estatura = utils.grouped_data_table(\"Estatura\", frecuency_table_by_estatura)\n",
    "display(dataframe_estatura)\n",
    "#utils.export_grouped_csv(grouped_dataframe_table=dataframe_estatura, variable_name=\"estatura_tabla\")\n",
    "#utils.export_grouped_csv(column_estatura, \"estaturas\")"
   ]
  },
  {
   "cell_type": "code",
   "execution_count": null,
   "id": "472a0440",
   "metadata": {},
   "outputs": [],
   "source": [
    "# Manejo de la variables peso\n",
    "column_peso = copy_pd_men[\"peso\"]\n",
    "bins_peso = [105, 130, 155, 180, 205, 230, 255]\n",
    "labels_peso = [\"105-130\", \"130-155\", \"155-180\", \"180-205\", \"205-230\", \"230-255\"]\n",
    "frecuency_table_by_peso = utils.frecuency_by_range(column=column_peso, bins_numbers=bins_peso, label_names=labels_peso)\n",
    "dataframe_peso = utils.grouped_data_table(\"Peso\", frecuency_table_by_peso)\n",
    "display(dataframe_peso)\n",
    "#utils.export_grouped_csv(dataframe_peso, \"peso_tabla\")\n",
    "#utils.export_grouped_csv(column_peso, \"pesos\")"
   ]
  },
  {
   "cell_type": "code",
   "execution_count": null,
   "id": "68ff1b1b",
   "metadata": {},
   "outputs": [],
   "source": [
    "# Manjeo de variable CUM\n",
    "column_CUM = copy_pd_men[\"cum\"]\n",
    "bins_cum = [0.0, 1.5167, 3.0334, 4.5501, 6.0668, 7.5835, 9.1002]\n",
    "labels_cum = [\"0-1.5\", \"1.5-3.0\", \"3.0-4.5\", \"4.5-6.0\", \"6.0-7.5\", \"7.5-9.1\"]\n",
    "frecuency_table_by_cum = utils.frecuency_by_range(column=column_CUM, bins_numbers=bins_cum, label_names=labels_cum)\n",
    "dataframe_cum = utils.grouped_data_table(\"CUM\", frecuency_table_by_cum)\n",
    "\n",
    "display(dataframe_cum)\n",
    "#utils.export_grouped_csv(dataframe_cum, \"cum_tabla\")\n",
    "#utils.export_grouped_csv(column_CUM, \"cums\")"
   ]
  },
  {
   "cell_type": "code",
   "execution_count": 35,
   "id": "68053d8b",
   "metadata": {},
   "outputs": [
    {
     "data": {
      "text/html": [
       "<div>\n",
       "<style scoped>\n",
       "    .dataframe tbody tr th:only-of-type {\n",
       "        vertical-align: middle;\n",
       "    }\n",
       "\n",
       "    .dataframe tbody tr th {\n",
       "        vertical-align: top;\n",
       "    }\n",
       "\n",
       "    .dataframe thead th {\n",
       "        text-align: right;\n",
       "    }\n",
       "</style>\n",
       "<table border=\"1\" class=\"dataframe\">\n",
       "  <thead>\n",
       "    <tr style=\"text-align: right;\">\n",
       "      <th></th>\n",
       "      <th>L -</th>\n",
       "      <th>L</th>\n",
       "      <th>xi</th>\n",
       "      <th>fi abs</th>\n",
       "      <th>fi sum</th>\n",
       "      <th>fi %</th>\n",
       "    </tr>\n",
       "    <tr>\n",
       "      <th>gastocel</th>\n",
       "      <th></th>\n",
       "      <th></th>\n",
       "      <th></th>\n",
       "      <th></th>\n",
       "      <th></th>\n",
       "      <th></th>\n",
       "    </tr>\n",
       "  </thead>\n",
       "  <tbody>\n",
       "    <tr>\n",
       "      <th>3.0-11.5</th>\n",
       "      <td>3.0</td>\n",
       "      <td>11.5</td>\n",
       "      <td>7.25</td>\n",
       "      <td>8</td>\n",
       "      <td>8</td>\n",
       "      <td>32.0</td>\n",
       "    </tr>\n",
       "    <tr>\n",
       "      <th>11.5-20.0</th>\n",
       "      <td>11.5</td>\n",
       "      <td>20.0</td>\n",
       "      <td>15.75</td>\n",
       "      <td>4</td>\n",
       "      <td>12</td>\n",
       "      <td>16.0</td>\n",
       "    </tr>\n",
       "    <tr>\n",
       "      <th>20.0-28.5</th>\n",
       "      <td>20.0</td>\n",
       "      <td>28.5</td>\n",
       "      <td>24.25</td>\n",
       "      <td>9</td>\n",
       "      <td>21</td>\n",
       "      <td>36.0</td>\n",
       "    </tr>\n",
       "    <tr>\n",
       "      <th>28.5-37.0</th>\n",
       "      <td>28.5</td>\n",
       "      <td>37.0</td>\n",
       "      <td>32.75</td>\n",
       "      <td>3</td>\n",
       "      <td>24</td>\n",
       "      <td>12.0</td>\n",
       "    </tr>\n",
       "    <tr>\n",
       "      <th>37.0-45.5</th>\n",
       "      <td>37.0</td>\n",
       "      <td>45.5</td>\n",
       "      <td>41.25</td>\n",
       "      <td>0</td>\n",
       "      <td>24</td>\n",
       "      <td>0.0</td>\n",
       "    </tr>\n",
       "    <tr>\n",
       "      <th>45.5-54.0</th>\n",
       "      <td>45.5</td>\n",
       "      <td>54.0</td>\n",
       "      <td>49.75</td>\n",
       "      <td>1</td>\n",
       "      <td>25</td>\n",
       "      <td>4.0</td>\n",
       "    </tr>\n",
       "  </tbody>\n",
       "</table>\n",
       "</div>"
      ],
      "text/plain": [
       "            L -     L     xi  fi abs  fi sum  fi %\n",
       "gastocel                                          \n",
       "3.0-11.5    3.0  11.5   7.25       8       8  32.0\n",
       "11.5-20.0  11.5  20.0  15.75       4      12  16.0\n",
       "20.0-28.5  20.0  28.5  24.25       9      21  36.0\n",
       "28.5-37.0  28.5  37.0  32.75       3      24  12.0\n",
       "37.0-45.5  37.0  45.5  41.25       0      24   0.0\n",
       "45.5-54.0  45.5  54.0  49.75       1      25   4.0"
      ]
     },
     "metadata": {},
     "output_type": "display_data"
    }
   ],
   "source": [
    "# Manejo de la variable gasto celular\n",
    "column_gastocel = copy_pd_men[\"gastocel\"]\n",
    "bins_gastocel = [3.0, 11.5, 20.0, 28.5, 37.0, 45.5, 54.0]\n",
    "labels_gastocel = [\"3.0-11.5\", \"11.5-20.0\", \"20.0-28.5\", \"28.5-37.0\", \"37.0-45.5\", \"45.5-54.0\"]\n",
    "frecuency_table_by_gastocel = utils.frecuency_by_range(column=column_gastocel, bins_numbers=bins_gastocel, label_names=labels_gastocel)\n",
    "dataframe_gastocel = utils.grouped_data_table(\"Gasto Celular\", frecuency_table_by_gastocel)\n",
    "\n",
    "display(dataframe_gastocel)\n",
    "#utils.export_grouped_csv(dataframe_gastocel, \"gastocel_tabla\")\n",
    "#utils.export_grouped_csv(column_gastocel, \"gastocel\")\n"
   ]
  }
 ],
 "metadata": {
  "kernelspec": {
   "display_name": "venv",
   "language": "python",
   "name": "python3"
  },
  "language_info": {
   "codemirror_mode": {
    "name": "ipython",
    "version": 3
   },
   "file_extension": ".py",
   "mimetype": "text/x-python",
   "name": "python",
   "nbconvert_exporter": "python",
   "pygments_lexer": "ipython3",
   "version": "3.13.3"
  }
 },
 "nbformat": 4,
 "nbformat_minor": 5
}
