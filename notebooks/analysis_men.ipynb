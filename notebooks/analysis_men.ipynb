{
 "cells": [
  {
   "cell_type": "code",
   "execution_count": 19,
   "id": "09996c34",
   "metadata": {},
   "outputs": [],
   "source": [
    "import pandas as pd\n",
    "import importlib\n",
    "import sys\n",
    "\n",
    "sys.path.append('../helpers')\n",
    "pd_men = pd.read_csv(\"../database/hombres.csv\")"
   ]
  },
  {
   "cell_type": "code",
   "execution_count": 20,
   "id": "48e0e6a5",
   "metadata": {},
   "outputs": [
    {
     "data": {
      "text/plain": [
       "<module 'utils' from 'c:\\\\Users\\\\gerar\\\\OneDrive\\\\Escritorio\\\\probability_statistics\\\\notebooks\\\\../helpers\\\\utils.py'>"
      ]
     },
     "execution_count": 20,
     "metadata": {},
     "output_type": "execute_result"
    }
   ],
   "source": [
    "import utils\n",
    "importlib.reload(utils)"
   ]
  },
  {
   "cell_type": "code",
   "execution_count": 21,
   "id": "b3ec47b8",
   "metadata": {},
   "outputs": [],
   "source": [
    "copy_pd_men = pd_men.copy()"
   ]
  },
  {
   "cell_type": "code",
   "execution_count": null,
   "id": "6c662e2e",
   "metadata": {},
   "outputs": [
    {
     "data": {
      "text/html": [
       "<div>\n",
       "<style scoped>\n",
       "    .dataframe tbody tr th:only-of-type {\n",
       "        vertical-align: middle;\n",
       "    }\n",
       "\n",
       "    .dataframe tbody tr th {\n",
       "        vertical-align: top;\n",
       "    }\n",
       "\n",
       "    .dataframe thead th {\n",
       "        text-align: right;\n",
       "    }\n",
       "</style>\n",
       "<table border=\"1\" class=\"dataframe\">\n",
       "  <thead>\n",
       "    <tr style=\"text-align: right;\">\n",
       "      <th></th>\n",
       "      <th>L -</th>\n",
       "      <th>L</th>\n",
       "      <th>xi</th>\n",
       "      <th>fi abs</th>\n",
       "      <th>fi sum</th>\n",
       "      <th>fi %</th>\n",
       "    </tr>\n",
       "    <tr>\n",
       "      <th>estatura</th>\n",
       "      <th></th>\n",
       "      <th></th>\n",
       "      <th></th>\n",
       "      <th></th>\n",
       "      <th></th>\n",
       "      <th></th>\n",
       "    </tr>\n",
       "  </thead>\n",
       "  <tbody>\n",
       "    <tr>\n",
       "      <th>1.5-1.6</th>\n",
       "      <td>1.5</td>\n",
       "      <td>1.6</td>\n",
       "      <td>1.55</td>\n",
       "      <td>1</td>\n",
       "      <td>1</td>\n",
       "      <td>4.0</td>\n",
       "    </tr>\n",
       "    <tr>\n",
       "      <th>1.6-1.7</th>\n",
       "      <td>1.6</td>\n",
       "      <td>1.7</td>\n",
       "      <td>1.65</td>\n",
       "      <td>6</td>\n",
       "      <td>7</td>\n",
       "      <td>24.0</td>\n",
       "    </tr>\n",
       "    <tr>\n",
       "      <th>1.7-1.8</th>\n",
       "      <td>1.7</td>\n",
       "      <td>1.8</td>\n",
       "      <td>1.75</td>\n",
       "      <td>11</td>\n",
       "      <td>18</td>\n",
       "      <td>44.0</td>\n",
       "    </tr>\n",
       "    <tr>\n",
       "      <th>1.8-1.9</th>\n",
       "      <td>1.8</td>\n",
       "      <td>1.9</td>\n",
       "      <td>1.85</td>\n",
       "      <td>6</td>\n",
       "      <td>24</td>\n",
       "      <td>24.0</td>\n",
       "    </tr>\n",
       "    <tr>\n",
       "      <th>1.9-2.0</th>\n",
       "      <td>1.9</td>\n",
       "      <td>2.0</td>\n",
       "      <td>1.95</td>\n",
       "      <td>1</td>\n",
       "      <td>25</td>\n",
       "      <td>4.0</td>\n",
       "    </tr>\n",
       "  </tbody>\n",
       "</table>\n",
       "</div>"
      ],
      "text/plain": [
       "          L -    L    xi  fi abs  fi sum  fi %\n",
       "estatura                                      \n",
       "1.5-1.6   1.5  1.6  1.55       1       1   4.0\n",
       "1.6-1.7   1.6  1.7  1.65       6       7  24.0\n",
       "1.7-1.8   1.7  1.8  1.75      11      18  44.0\n",
       "1.8-1.9   1.8  1.9  1.85       6      24  24.0\n",
       "1.9-2.0   1.9  2.0  1.95       1      25   4.0"
      ]
     },
     "metadata": {},
     "output_type": "display_data"
    }
   ],
   "source": [
    "# Manejo de la variable estatura\n",
    "column_estatura = copy_pd_men[\"estatura\"]\n",
    "bins = [1.50, 1.60, 1.70, 1.80, 1.90, 2.0]\n",
    "labels = [\"1.5-1.6\", \"1.6-1.7\", \"1.7-1.8\", \"1.8-1.9\", \"1.9-2.0\"]\n",
    "frecuency_table_by_estatura = utils.frecuency_by_range(column=column_estatura, bins_numbers=bins, label_names=labels)\n",
    "dataframe_estatura = utils.grouped_data_table(\"Estatura\", frecuency_table_by_estatura)\n",
    "display(dataframe_estatura)\n",
    "#utils.export_grouped_csv(grouped_dataframe_table=dataframe_estatura, variable_name=\"estatura_tabla\")\n",
    "#utils.export_grouped_csv(column_estatura, \"estaturas\")"
   ]
  },
  {
   "cell_type": "code",
   "execution_count": null,
   "id": "472a0440",
   "metadata": {},
   "outputs": [
    {
     "data": {
      "text/html": [
       "<div>\n",
       "<style scoped>\n",
       "    .dataframe tbody tr th:only-of-type {\n",
       "        vertical-align: middle;\n",
       "    }\n",
       "\n",
       "    .dataframe tbody tr th {\n",
       "        vertical-align: top;\n",
       "    }\n",
       "\n",
       "    .dataframe thead th {\n",
       "        text-align: right;\n",
       "    }\n",
       "</style>\n",
       "<table border=\"1\" class=\"dataframe\">\n",
       "  <thead>\n",
       "    <tr style=\"text-align: right;\">\n",
       "      <th></th>\n",
       "      <th>L -</th>\n",
       "      <th>L</th>\n",
       "      <th>xi</th>\n",
       "      <th>fi abs</th>\n",
       "      <th>fi sum</th>\n",
       "      <th>fi %</th>\n",
       "    </tr>\n",
       "    <tr>\n",
       "      <th>peso</th>\n",
       "      <th></th>\n",
       "      <th></th>\n",
       "      <th></th>\n",
       "      <th></th>\n",
       "      <th></th>\n",
       "      <th></th>\n",
       "    </tr>\n",
       "  </thead>\n",
       "  <tbody>\n",
       "    <tr>\n",
       "      <th>105-130</th>\n",
       "      <td>105</td>\n",
       "      <td>130</td>\n",
       "      <td>117.5</td>\n",
       "      <td>2</td>\n",
       "      <td>2</td>\n",
       "      <td>8.0</td>\n",
       "    </tr>\n",
       "    <tr>\n",
       "      <th>130-155</th>\n",
       "      <td>130</td>\n",
       "      <td>155</td>\n",
       "      <td>142.5</td>\n",
       "      <td>8</td>\n",
       "      <td>10</td>\n",
       "      <td>32.0</td>\n",
       "    </tr>\n",
       "    <tr>\n",
       "      <th>155-180</th>\n",
       "      <td>155</td>\n",
       "      <td>180</td>\n",
       "      <td>167.5</td>\n",
       "      <td>9</td>\n",
       "      <td>19</td>\n",
       "      <td>36.0</td>\n",
       "    </tr>\n",
       "    <tr>\n",
       "      <th>180-205</th>\n",
       "      <td>180</td>\n",
       "      <td>205</td>\n",
       "      <td>192.5</td>\n",
       "      <td>5</td>\n",
       "      <td>24</td>\n",
       "      <td>20.0</td>\n",
       "    </tr>\n",
       "    <tr>\n",
       "      <th>205-230</th>\n",
       "      <td>205</td>\n",
       "      <td>230</td>\n",
       "      <td>217.5</td>\n",
       "      <td>0</td>\n",
       "      <td>24</td>\n",
       "      <td>0.0</td>\n",
       "    </tr>\n",
       "    <tr>\n",
       "      <th>230-255</th>\n",
       "      <td>230</td>\n",
       "      <td>255</td>\n",
       "      <td>242.5</td>\n",
       "      <td>1</td>\n",
       "      <td>25</td>\n",
       "      <td>4.0</td>\n",
       "    </tr>\n",
       "  </tbody>\n",
       "</table>\n",
       "</div>"
      ],
      "text/plain": [
       "         L -    L     xi  fi abs  fi sum  fi %\n",
       "peso                                          \n",
       "105-130  105  130  117.5       2       2   8.0\n",
       "130-155  130  155  142.5       8      10  32.0\n",
       "155-180  155  180  167.5       9      19  36.0\n",
       "180-205  180  205  192.5       5      24  20.0\n",
       "205-230  205  230  217.5       0      24   0.0\n",
       "230-255  230  255  242.5       1      25   4.0"
      ]
     },
     "metadata": {},
     "output_type": "display_data"
    },
    {
     "data": {
      "text/plain": [
       "count     25.000000\n",
       "mean     162.360000\n",
       "std       26.446298\n",
       "min      105.000000\n",
       "25%      150.000000\n",
       "50%      158.000000\n",
       "75%      170.000000\n",
       "max      240.000000\n",
       "Name: peso, dtype: float64"
      ]
     },
     "metadata": {},
     "output_type": "display_data"
    }
   ],
   "source": [
    "# Manejo de la variables peso\n",
    "column_peso = copy_pd_men[\"peso\"]\n",
    "bins_peso = [105, 130, 155, 180, 205, 230, 255]\n",
    "labels_peso = [\"105-130\", \"130-155\", \"155-180\", \"180-205\", \"205-230\", \"230-255\"]\n",
    "frecuency_table_by_peso = utils.frecuency_by_range(column=column_peso, bins_numbers=bins_peso, label_names=labels_peso)\n",
    "dataframe_peso = utils.grouped_data_table(\"Peso\", frecuency_table_by_peso)\n",
    "display(dataframe_peso)\n",
    "#utils.export_grouped_csv(dataframe_peso, \"peso_tabla\")\n",
    "#utils.export_grouped_csv(column_peso, \"pesos\")"
   ]
  }
 ],
 "metadata": {
  "kernelspec": {
   "display_name": "venv",
   "language": "python",
   "name": "python3"
  },
  "language_info": {
   "codemirror_mode": {
    "name": "ipython",
    "version": 3
   },
   "file_extension": ".py",
   "mimetype": "text/x-python",
   "name": "python",
   "nbconvert_exporter": "python",
   "pygments_lexer": "ipython3",
   "version": "3.13.3"
  }
 },
 "nbformat": 4,
 "nbformat_minor": 5
}
